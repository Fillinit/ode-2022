{
 "cells": [
  {
   "cell_type": "markdown",
   "metadata": {},
   "source": [
    "# Практическая работа №1: Краевая задача для уравнения II-го порядка.\n",
    "\n",
    "Выполнил студент гр. 9382 Русинов Дмитрий, вариант 15."
   ]
  },
  {
   "cell_type": "markdown",
   "metadata": {},
   "source": [
    "## Цель работы\n",
    "\n",
    "Научиться применять дифференциальные уравнения в различных областях, решать краевую задачу для уравнения II-го порядка путём многократного решения задачи Коши."
   ]
  },
  {
   "cell_type": "markdown",
   "metadata": {},
   "source": [
    "## Основные теоретические положения\n",
    "\n",
    "### Задача Коши:\n",
    "\n",
    "Система ОДУ первого порядка:\n",
    "\\begin{cases}\n",
    "    y'_1 = f(x, y_1, ..., y_n) \\\\\n",
    "    ... \\\\\n",
    "    y'_n = f(x, y_1, ..., y_n) \\\\\n",
    "    y_1(a) = y_{1a} \\\\\n",
    "    ... \\\\\n",
    "    y_n(a) = y_{na}\n",
    "\\end{cases}\\,.\n",
    "\n",
    "Решение заключается в поиске интеграла, который удовлетворяет начальным условиям.\n",
    "\n",
    "### Краевая задача:\n",
    "\n",
    "Задача, решение которой заключается в поиске интеграла дифференциального уравнения такого, что значение интеграла на краях отрезка удовлетворяет условию.\n",
    "\n",
    "### Метод половинного деления:\n",
    "\n",
    "Алгоритм, который позволяет найти корень функции. Суть алгоритма заключается в сужении области, где находится корень. Определение, есть ли в области корень происходит за счет сравнения знаков значения функции на концах области: если знаки разные, значит корень существует."
   ]
  },
  {
   "cell_type": "markdown",
   "metadata": {},
   "source": [
    "## Постановка задачи\n",
    "\n",
    "Дано дифференциальное уравнение: $y'' = f(x, y), a < x < b$ (1) и граничные условия.\n",
    "\n",
    "$y(a) = y_a, y(b) = y_b$ (2)\n",
    "\n",
    "Требуется найти решение задачи (1)-(2) и построить его график. Рассмотрим задачу Коши для уравнения (1) с начальными условиями.\n",
    "\n",
    "$y(a) = y_a, y'(a) = h$ (3)\n",
    "\n",
    "План решения основан на многократном решении задачи Коши (1), (3). Значение решения задачи Коши при $x = b$ является функцией от h.\n",
    "\n",
    "Задача сводится к отысканию такого значения переменной h, при котором выполнено условие на правом конце отрезка, т.е. должно выполняться\n",
    "\n",
    "$y(b, h) = y_b$ (4)\n",
    "\n",
    "Это уравнение с одним неизвестным h.\n",
    "Для его решения можно применить стандартный метод половинного\n",
    "деления."
   ]
  },
  {
   "cell_type": "markdown",
   "metadata": {},
   "source": [
    "## Выполнение работы"
   ]
  },
  {
   "cell_type": "code",
   "execution_count": 8,
   "metadata": {},
   "outputs": [
    {
     "name": "stdout",
     "output_type": "stream",
     "text": [
      "h = 0.0810546875\n"
     ]
    }
   ],
   "source": [
    "import typing\n",
    "\n",
    "import matplotlib.pyplot\n",
    "import numpy as np\n",
    "\n",
    "\n",
    "def func(x: float, y: float):\n",
    "    return (2 ** x) / (x ** 2 + y)\n",
    "\n",
    "\n",
    "class SecondOrderODE:\n",
    "    def __init__(self, a: float, b: float, y_a: float, f: typing.Callable):\n",
    "\n",
    "        self._a = a\n",
    "        self._b = b\n",
    "        self._y_a = y_a\n",
    "        self._f = f\n",
    "\n",
    "    def solution(self, h: float, step: float) -> typing.Tuple[list, list]:\n",
    "        x = self._a\n",
    "        y = self._y_a\n",
    "        g = h\n",
    "\n",
    "        gPoints = []\n",
    "        yPoints = []\n",
    "\n",
    "        while x < self._b:\n",
    "\n",
    "            gPoints.append(g)\n",
    "            yPoints.append(y)\n",
    "\n",
    "            k1 = self._f(x, y)\n",
    "            k2 = self._f(x + step / 2, y + step / 2 * k1)\n",
    "            k3 = self._f(x + step / 2, y + step / 2 * k2)\n",
    "            k4 = self._f(x + step, y + step * k3)\n",
    "\n",
    "            y += g * step\n",
    "            g += step / 6 * (k1 + 2 * k2 + 2 * k3 + k4)\n",
    "\n",
    "            x += step\n",
    "\n",
    "        return gPoints, yPoints\n",
    "\n",
    "\n",
    "class BisectionMethod:\n",
    "    def __init__(self, ode: SecondOrderODE, h: float, delta: float, epsilon: float):\n",
    "        self._ode = ode\n",
    "        self._h = h\n",
    "        self._delta = delta\n",
    "        self._epsilon = epsilon\n",
    "\n",
    "    def solution(self, theoryValue: float):\n",
    "\n",
    "        h = self._h\n",
    "        delta = self._delta\n",
    "        step = 1 / 100\n",
    "        _, yPoints = self._ode.solution(h, step)\n",
    "        y = yPoints[-1]\n",
    "\n",
    "        while abs(y - theoryValue) > self._epsilon:\n",
    "\n",
    "            left = h - delta\n",
    "            right = h + delta\n",
    "\n",
    "            _, yPoints = self._ode.solution(left, step)\n",
    "            leftY = yPoints[-1]\n",
    "\n",
    "            _, yPoints = self._ode.solution(right, step)\n",
    "            rightY = yPoints[-1]\n",
    "\n",
    "            if (leftY - theoryValue) * (y - theoryValue) < 0:\n",
    "                h = left + delta / 2\n",
    "            elif (rightY - theoryValue) * (y - theoryValue) < 0:\n",
    "                h = right - delta / 2\n",
    "            else:\n",
    "                raise ValueError(\"There is not solution\")\n",
    "\n",
    "            delta /= 2\n",
    "            _, yPoints = self._ode.solution(h, step)\n",
    "            y = yPoints[-1]\n",
    "\n",
    "        return h\n",
    "\n",
    "\n",
    "instance = SecondOrderODE(a=0, b=2, y_a=3, f=func)\n",
    "bm = BisectionMethod(ode=instance, h=1, delta=1, epsilon=0.001)\n",
    "result = bm.solution(theoryValue=4)\n",
    "print(\"h =\", result)"
   ]
  },
  {
   "cell_type": "markdown",
   "metadata": {},
   "source": [
    "Таблица промежуточных результатов решения\n",
    "\n",
    "| h            | y                  | delta        |\n",
    "|--------------|--------------------|--------------|\n",
    "| 1            | 5.724031312561376  | 1            |\n",
    "| 0.5          | 4.781912147798774  | 0.5          |\n",
    "| 0.25         | 4.31450291242433   | 0.25         |\n",
    "| 0.125        | 4.081871534050189  | 0.125        |\n",
    "| 0.0625       | 3.965848168845239  | 0.0625       |\n",
    "| 0.09375      | 4.023834716081306  | 0.03125      |\n",
    "| 0.078125     | 3.9948350984104843 | 0.015625     |\n",
    "| 0.0859375    | 4.009333328820323  | 0.0078125    |\n",
    "| 0.08203125   | 4.002083818064415  | 0.00390625   |\n",
    "| 0.080078125  | 3.998459359231292  | 0.001953125  |\n",
    "| 0.0810546875 | 4.000271563911133  | 0.0009765625 |"
   ]
  },
  {
   "cell_type": "code",
   "execution_count": 10,
   "metadata": {},
   "outputs": [
    {
     "data": {
      "image/png": "[encoded data removed]",
      "text/plain": [
       "<Figure size 432x288 with 1 Axes>"
      ]
     },
     "metadata": {
      "needs_background": "light"
     },
     "output_type": "display_data"
    }
   ],
   "source": [
    "gPoints, yPoints = instance.solution(result, 1 / 100)\n",
    "xPoints = np.linspace(0, 2, 200)\n",
    "matplotlib.pyplot.plot(xPoints, yPoints, label=\"y\")\n",
    "matplotlib.pyplot.plot(xPoints, gPoints, label=\"y'\")\n",
    "matplotlib.pyplot.legend()\n",
    "matplotlib.pyplot.show()"
   ]
  },
  {
   "cell_type": "markdown",
   "metadata": {},
   "source": [
    "## Выводы\n",
    "\n",
    "Была решена краевая задача для уравнения II-го порядка путём многократного решения задачи Коши. Задача Коши решалась численным интегрированием, а краевая задача с использованием метода половинного деления для поиска начального состояния уравнения."
   ]
  }
 ],
 "metadata": {
  "kernelspec": {
   "display_name": "Python 3 (ipykernel)",
   "language": "python",
   "name": "python3"
  },
  "language_info": {
   "codemirror_mode": {
    "name": "ipython",
    "version": 3
   },
   "file_extension": ".py",
   "mimetype": "text/x-python",
   "name": "python",
   "nbconvert_exporter": "python",
   "pygments_lexer": "ipython3",
   "version": "3.9.10"
  }
 },
 "nbformat": 4,
 "nbformat_minor": 4
}
