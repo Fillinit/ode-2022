{
 "cells":[
  {
   "cell_type":"markdown",
   "source":[
    "# Практическая работа №1: Краевая задача для уравнения II-го порядка.\n",
    "\n",
    "Выполнил студент гр. 9382 Иерусалимов Никита, вариант 6.\n",
    "\n",
    "## Цель работы\n",
    "\n",
    "Научиться применять дифференциальные уравнения в различных областях, решать краевую задачу для уравнения II-го порядка путём многократного решения задачи Коши.\n",
    "\n",
    "## Основные теоретические положения\n",
    "\n",
    "### Задача Коши:\n",
    "\n",
    "Общий вид задачи Коши: \n",
    "\n",
    "$$\n",
    "\\begin{cases}\n",
    "    f(x, y, y', y'', \\dots, y^{(n)}) = 0 \\\\\n",
    "    y(x_0) = y_0 \\\\\n",
    "    y'(x_0) = y_1 \\\\\n",
    "    y''(x_0) = y_2 \\\\\n",
    "    \\dots \\\\\n",
    "    y^{(n-1)}(x_0) = y_{n-1}\n",
    "\\end{cases}\n",
    "$$\n",
    "\n",
    "### Метод половинного деления:\n",
    "\n",
    "Алгоритм, который позволяет найти корень функции. Суть алгоритма заключается в сужении области, где находится корень. Определение, есть ли в области корень происходит за счет сравнения знаков значения функции на концах области: если знаки разные, значит корень существует.\n",
    "\n",
    "### Краевая задача:\n",
    "Задача о нахождении решения заданного дифференциального уравнения, удовлетворяющего краевым условиям в концах интервала или на границе области.\n",
    "\n",
    "## Постановка задачи\n",
    "\n",
    "Дано дифференциальное уравнение: $y'' = f(x, y), a < x < b$ (1) и граничные условия.\n",
    "\n",
    "$$y(a) = y_a, y(b) = y_b (2)$$ \n",
    "\n",
    "Требуется найти решение задачи (1)-(2) и построить его график. Рассмотрим задачу Коши для уравнения (1) с начальными условиями.\n",
    "\n",
    "$$y(a) = y_a, y'(a) = h (3)$$\n",
    "\n",
    "План решения основан на многократном решении задачи Коши (1), (3). Значение решения задачи Коши при $x = b$ является функцией от h.\n",
    "\n",
    "Задача сводится к отысканию такого значения переменной h, при котором выполнено условие на правом конце отрезка, т.е. должно выполняться\n",
    "\n",
    "$$y(b, h) = y_b (4)$$\n",
    "\n",
    "Это уравнение с одним неизвестным h.\n",
    "Для его решения можно применить стандартный метод половинного\n",
    "деления.\n",
    "\n",
    "\n",
    "\n",
    "\n",
    "\n",
    "## Схема решения\n",
    "\n",
    "1. Задаем наугад число $h_0$, решаем задачу Коши. Далее вычисляем $y(b, h_0)$.\n",
    "Если оказалось, что $y(b, h_0) = y_b$, то мы решили краевую задачу. Если же нет, то переходим на следующий шаг.\n",
    "\n",
    "\n",
    "2. Пусть, например, $y(b, h_0) > y_b$. Выберем шаг $\\Delta{h}$ и решаем несколько раз задачу Коши при $h_1 = h_0 + \\Delta{h}$.\n",
    "Если снова получили $y(b, h_1) > y_b$, причём $y(b, h_0) > y(b, h_1) > y_b$, решаем задачу Коши при $h_2 = h_1 + \\Delta{h}$ и т.д.\n",
    "Процесс повторяется пока не получим неравенство $y(b, h_m) < y_b$.\n",
    "Это означает, что искомое значение попало в «вилку», т.е. $h \\in (h_{m−1}; h_m)$.\n",
    "Шаг $\\Delta{h}$ не должен быть слишком маленьким, иначе процесс сильно затянется.\n",
    "Знак шага также не известен заранее, может оказаться, что нужно не увеличивать наклон, а уменьшать.\n",
    "\n",
    "\n",
    "3. Далее применяется стандартный процесс половинного деления к уравнению (4).\n",
    "\n",
    "\n",
    "4. Процесс останавливаем, когда выполнится неравенство $|y(b, h_m) − y(b, h_{m−1})| < 0.001$.\n",
    "\n",
    "\n",
    "5. Возможен случай, когда ни одна интегральная кривая не проходит через точку $(b, y_b)$, т.е. задача не имеет решения.\n",
    "Поэтому нужно ограничить число шагов. Процесс останавливается при $m > M$, где $M$ – заданное число (например, 100).  \n",
    "\n",
    "\n",
    "\n",
    "\n",
    "\n",
    "\n",
    "\n",
    "## Выполнение работы"
   ],
   "attachments":{
    
   },
   "metadata":{
    "datalore":{
     "type":"MD",
     "hide_input_from_viewers":false,
     "hide_output_from_viewers":false
    }
   }
  },
  {
   "cell_type":"code",
   "source":[
    "from scipy import integrate\n",
    "from matplotlib.pyplot import grid,legend, plot, xlabel\n",
    "from numpy import linspace\n",
    "\n",
    "\n",
    "a = 0\n",
    "b = 2\n",
    "y_a = 3\n",
    "y_b = -3\n",
    "h = 0 # шаг\n",
    "X = linspace(a, b, 250) # Берем равномерное распределение чисел за указанный интервал\n",
    "steps = 1000 # допустимое количество щагов\n",
    "\n",
    "def func(x: float, y: float):\n",
    "    return (2 ** x) * (x - y)\n",
    "\n",
    "def solve_func(x, values):\n",
    "    return values[1], func(x,values[0])\n",
    "\n",
    "def integrateFunc(h):\n",
    "    results = integrate.solve_ivp(solve_func, [a, b], [y_a, h], t_eval=X)\n",
    "    return results.y[0][-1]\n",
    "\n",
    "def half_division_method(h_left, h_right):\n",
    "    res_left = integrateFunc(h_left)\n",
    "    res_right = integrateFunc(h_right)\n",
    "\n",
    "    for step in range(steps):\n",
    "        if abs(res_left - res_right) > 0.001:\n",
    "            h_mid = h_left + abs(h_right - h_left) \/ 2\n",
    "            res_mid = integrateFunc(h_mid)\n",
    "            y_bh = res_mid\n",
    "            y_bh_left = res_left\n",
    "\n",
    "            if (y_bh_left - y_b) * (y_bh - y_b) < 0:\n",
    "                h_right = h_mid\n",
    "                res_right = res_mid\n",
    "            else:\n",
    "                h_left = h_mid\n",
    "                res_left = res_mid\n",
    "\n",
    "        else:\n",
    "            break\n",
    "    return res_left,h_left\n",
    "\n",
    "y_bh = integrateFunc(h)\n",
    "\n",
    "if y_bh != y_b:\n",
    "    print(\"y(b,h) != y_b\")\n",
    "    print(\"y({},{}) = {} > y_b = {}\".format(b,h,y_bh,y_b))\n",
    "    for step in range(steps):\n",
    "        if y_bh > y_b:\n",
    "            h_right = h\n",
    "            h -= 1\n",
    "            h_left = h\n",
    "\n",
    "            y_bh = integrateFunc(h)\n",
    "        else:\n",
    "            break\n",
    "\n",
    "    print(\"Наша h лежит от {} и до {}\".format(h_left,h_right))\n",
    "    print(\"Запускаем метод половинного деления для поиска значение h при котором y(b,h)=y_b, точность 0.001\")\n",
    "    res_left,h_left = half_division_method(h_left, h_right)\n",
    "    print(\"h = {}: f(b, h) = {}\".format(h_left, res_left))\n",
    "else:\n",
    "    print(\"Повезло, краевая задача решена.\\ny(b,h) = y_b\\ny({},{}) = {}\".format(b,h,y_bh))"
   ],
   "execution_count":28,
   "outputs":[
    {
     "name":"stdout",
     "text":[
      "y(b,h) != y_b\n",
      "y(2,0) = -0.15288183786667192 > y_b = -3\n",
      "Наша h лежит от -18 и до -17\n",
      "Запускаем метод половинного деления для поиска значение h при котором y(b,h)=y_b, точность 0.001\n",
      "h = -17.3984375: f(b, h) = -3.000412163425587\n"
     ],
     "output_type":"stream"
    }
   ],
   "metadata":{
    "datalore":{
     "type":"CODE",
     "hide_input_from_viewers":false,
     "hide_output_from_viewers":false
    }
   }
  },
  {
   "cell_type":"markdown",
   "source":[
    "Таблица с промежуточным результатом работы \n",
    "\n",
    "| h             | y                  | \n",
    "|---------------|--------------------|\n",
    "| -17.5         |-3.01705376  |\n",
    "| -17.25        |-2.97608879  |\n",
    "|-17.375        |-2.99657164  |\n",
    "|-17.4375       |-3.00681301            |\n",
    "|-17.40625      |-3.00169233  |\n",
    "|-17.390625     |-2.99913199  |\n",
    "|-17.3984375    |-3.00041216  |\n",
    "______________________________________"
   ],
   "attachments":{
    
   },
   "metadata":{
    "datalore":{
     "type":"MD",
     "hide_input_from_viewers":false,
     "hide_output_from_viewers":false
    }
   }
  },
  {
   "cell_type":"code",
   "source":[
    "dots = integrate.solve_ivp(solve_func, [a, b], [y_a, h_left], t_eval=X)\n",
    "\n",
    "plot(X, dots.y[0], label=\"y\")\n",
    "plot(X, dots.y[1], label=\"y'\")\n",
    "xlabel(\"x\")\n",
    "legend()"
   ],
   "execution_count":30,
   "outputs":[
    {
     "data":{
      "text\/plain":[
       "<matplotlib.legend.Legend at 0x7fd185c1d3a0>"
      ],
      "image\/png":"[encoded data removed]"
     },
     "metadata":{
      "image\/png":{
       
      }
     },
     "output_type":"display_data"
    }
   ],
   "metadata":{
    "datalore":{
     "type":"CODE",
     "hide_input_from_viewers":false,
     "hide_output_from_viewers":false
    }
   }
  },
  {
   "cell_type":"markdown",
   "source":[
    "## Выводы\n",
    "\n",
    "В ходе практической работы была решена краевая задача для уравнения 2-ого порядка с использованием методов численного интегрирования с определенной точностью. Задача Коши решалась численным интегрированием, а краевая задача с использованием метода половинного деления для поиска начального состояния уравнения."
   ],
   "attachments":{
    
   },
   "metadata":{
    "datalore":{
     "type":"MD",
     "hide_input_from_viewers":false,
     "hide_output_from_viewers":false
    }
   }
  }
 ],
 "metadata":{
  "datalore":{
   "version":1,
   "computation_mode":"JUPYTER",
   "package_manager":"pip",
   "base_environment":"default",
   "packages":[
    
   ]
  }
 },
 "nbformat":4,
 "nbformat_minor":4
}